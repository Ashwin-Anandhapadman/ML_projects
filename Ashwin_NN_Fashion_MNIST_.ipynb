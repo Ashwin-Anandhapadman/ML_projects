{
  "nbformat": 4,
  "nbformat_minor": 0,
  "metadata": {
    "colab": {
      "provenance": []
    },
    "kernelspec": {
      "name": "python3",
      "display_name": "Python 3"
    },
    "language_info": {
      "name": "python"
    }
  },
  "cells": [
    {
      "cell_type": "markdown",
      "source": [
        "The following project was done to classify and predict the different fashion items using a neural network. The dataset was obtained from kaggle(https://www.kaggle.com/datasets/zalando-research/fashionmnist)\n",
        "According to Kaggle, fashion-MNIST is a dataset of Zalando's article images—consisting of a training set of 60,000 examples and a test set of 10,000 examples. Each example is a 28x28 grayscale image, associated with a label from 10 classes. The original MNIST dataset contains a lot of handwritten digits.\n",
        "\n",
        "Labels in the dataset:\n",
        "\n",
        "0 T-shirt/top\n",
        "\n",
        "1 Trouser\n",
        "\n",
        "2 Pullover\n",
        "\n",
        "3 Dress\n",
        "\n",
        "4 Coat\n",
        "\n",
        "5 Sandal\n",
        "\n",
        "6 Shirt\n",
        "\n",
        "7 Sneaker\n",
        "\n",
        "8 Bag\n",
        "\n",
        "9 Ankle boot"
      ],
      "metadata": {
        "id": "ni9Ww1KwzB-0"
      }
    },
    {
      "cell_type": "code",
      "execution_count": null,
      "metadata": {
        "id": "ixlKWcCVQWXb"
      },
      "outputs": [],
      "source": [
        "import numpy as np\n",
        "import tensorflow as tf\n",
        "from tensorflow import keras\n",
        "import matplotlib.pyplot as plt\n"
      ]
    },
    {
      "cell_type": "code",
      "source": [
        "fash_data= keras.datasets.fashion_mnist\n",
        "(X_train_full, y_train_full), (X_test, y_test)= fash_data.load_data() #already dataset is split as test (60k) and train (10k) by keras. so no need to do split by outselves\n",
        "\n",
        "# X_train will have images and y_train will have labels (10 different t-shirt labels)\n"
      ],
      "metadata": {
        "id": "ONftwn_6Reae"
      },
      "execution_count": null,
      "outputs": []
    },
    {
      "cell_type": "code",
      "source": [
        "X_train_full.shape #shows 3 values because the table has 60k different rows of data and each image is 28*28 pixels, therefore for one type of label there will 784 datapoints (784 columns)"
      ],
      "metadata": {
        "colab": {
          "base_uri": "https://localhost:8080/"
        },
        "id": "yFJn4rFDScm4",
        "outputId": "96a482ba-4eb5-4382-981b-95a34e87df0c"
      },
      "execution_count": null,
      "outputs": [
        {
          "output_type": "execute_result",
          "data": {
            "text/plain": [
              "(60000, 28, 28)"
            ]
          },
          "metadata": {},
          "execution_count": 112
        }
      ]
    },
    {
      "cell_type": "code",
      "source": [
        "X_train_full.dtype #for uint8 type of data the min-max values will be btw 0 and 255. this is not great as we need to normalize for big values"
      ],
      "metadata": {
        "colab": {
          "base_uri": "https://localhost:8080/"
        },
        "id": "mkB8u3CgTcOV",
        "outputId": "9a76aeda-bb34-490e-eb43-6c0fba630240"
      },
      "execution_count": null,
      "outputs": [
        {
          "output_type": "execute_result",
          "data": {
            "text/plain": [
              "dtype('uint8')"
            ]
          },
          "metadata": {},
          "execution_count": 113
        }
      ]
    },
    {
      "cell_type": "code",
      "source": [
        "#split train data into validation data also\n",
        "\n",
        "X_val = X_train_full[:5000]\n",
        "X_train = X_train_full[5000:]  # if you want to extract specific columns, you can use additional indices within the slicing notation. For example, X_train[:5000, 0:3] would extract the first 5000 rows and the first 3 columns\n",
        "X_val = X_val /255\n",
        "X_train = X_train /255\n",
        "X_test = X_test /255\n",
        "\n",
        "y_val, y_train = y_train_full[:5000], y_train_full[5000:]\n"
      ],
      "metadata": {
        "id": "SNNmq5xHUZKY"
      },
      "execution_count": null,
      "outputs": []
    },
    {
      "cell_type": "code",
      "source": [
        "print(X_train.shape)\n",
        "print (X_val.shape)\n",
        "print(X_test.shape)"
      ],
      "metadata": {
        "colab": {
          "base_uri": "https://localhost:8080/"
        },
        "id": "aHW3WKfeWOAP",
        "outputId": "9cd94866-c801-46c2-8e17-c0b043ae5468"
      },
      "execution_count": null,
      "outputs": [
        {
          "output_type": "stream",
          "name": "stdout",
          "text": [
            "(55000, 28, 28)\n",
            "(5000, 28, 28)\n",
            "(10000, 28, 28)\n"
          ]
        }
      ]
    },
    {
      "cell_type": "code",
      "source": [
        "plt.imshow(X_train[1], cmap='binary') #This code will create a image where pixels with a value of 0 will be black and pixels with a value of 1 will be white.\n",
        "plt.axis('off')\n",
        "plt.show()"
      ],
      "metadata": {
        "colab": {
          "base_uri": "https://localhost:8080/",
          "height": 406
        },
        "id": "gdMtiPpVWgqq",
        "outputId": "91f11740-81e1-4f34-a7d8-a3486e9e7a7d"
      },
      "execution_count": null,
      "outputs": [
        {
          "output_type": "display_data",
          "data": {
            "text/plain": [
              "<Figure size 640x480 with 1 Axes>"
            ],
            "image/png": "[encoded data removed]"
          },
          "metadata": {}
        }
      ]
    },
    {
      "cell_type": "code",
      "source": [
        "from tensorflow.keras.models import Sequential\n",
        "from tensorflow.keras.layers import Flatten, Dense\n",
        "\n",
        "\n",
        "\n",
        "model = Sequential([\n",
        "    Flatten(input_shape=(28,28)),\n",
        "    Dense (500, activation ='relu', name = 'L1'),\n",
        "    Dense (200, activation ='relu', name = 'L2'),\n",
        "    Dense (10, activation ='softmax', name = 'L3')   #no. of neurons in o/p layer shd be same as no. of class to compute prob(Y/given=1,2,3...9)\n",
        "])"
      ],
      "metadata": {
        "id": "lPkVvl92XQrJ"
      },
      "execution_count": null,
      "outputs": []
    },
    {
      "cell_type": "code",
      "source": [
        "np.random.seed(42) #this seeding is done to fix the intialization at same point everytime we run the code fro first\n",
        "\n",
        "tf.random.set_seed(42)\n"
      ],
      "metadata": {
        "id": "JjKVk23HXQn1"
      },
      "execution_count": null,
      "outputs": []
    },
    {
      "cell_type": "code",
      "source": [
        "model.layers"
      ],
      "metadata": {
        "colab": {
          "base_uri": "https://localhost:8080/"
        },
        "id": "BhKuiHwAXQlK",
        "outputId": "cf5c343d-bc0b-4da0-9c7c-129aacd20575"
      },
      "execution_count": null,
      "outputs": [
        {
          "output_type": "execute_result",
          "data": {
            "text/plain": [
              "[<keras.src.layers.reshaping.flatten.Flatten at 0x7ed23f444130>,\n",
              " <keras.src.layers.core.dense.Dense at 0x7ed23f1c0190>,\n",
              " <keras.src.layers.core.dense.Dense at 0x7ed23f1c0220>,\n",
              " <keras.src.layers.core.dense.Dense at 0x7ed23f1c1900>]"
            ]
          },
          "metadata": {},
          "execution_count": 119
        }
      ]
    },
    {
      "cell_type": "code",
      "source": [
        "model.summary() #number of weights in first layer is 300 (w-values) * 784 (input) + 300 bias = 235500"
      ],
      "metadata": {
        "colab": {
          "base_uri": "https://localhost:8080/"
        },
        "id": "0mLIffsPXQib",
        "outputId": "662a2042-95cf-4ad7-d07e-4df7da06a347"
      },
      "execution_count": null,
      "outputs": [
        {
          "output_type": "stream",
          "name": "stdout",
          "text": [
            "Model: \"sequential_6\"\n",
            "_________________________________________________________________\n",
            " Layer (type)                Output Shape              Param #   \n",
            "=================================================================\n",
            " flatten_6 (Flatten)         (None, 784)               0         \n",
            "                                                                 \n",
            " L1 (Dense)                  (None, 500)               392500    \n",
            "                                                                 \n",
            " L2 (Dense)                  (None, 200)               100200    \n",
            "                                                                 \n",
            " L3 (Dense)                  (None, 10)                2010      \n",
            "                                                                 \n",
            "=================================================================\n",
            "Total params: 494710 (1.89 MB)\n",
            "Trainable params: 494710 (1.89 MB)\n",
            "Non-trainable params: 0 (0.00 Byte)\n",
            "_________________________________________________________________\n"
          ]
        }
      ]
    },
    {
      "cell_type": "code",
      "source": [
        "h = model.layers[1]\n",
        "\n",
        "\n",
        "weight, bias = h.get_weights() #we are onle getting weights of 1st hidden layer with 300 neurons\n",
        "\n",
        "weight\n",
        "weight.shape #so weights for individual neuron in a layer are placed in columns. each row has the weights for one of the 784 input numbers"
      ],
      "metadata": {
        "colab": {
          "base_uri": "https://localhost:8080/"
        },
        "id": "W279LoWVXQfw",
        "outputId": "88ac7db1-28c5-49d0-844a-64137ba972f9"
      },
      "execution_count": null,
      "outputs": [
        {
          "output_type": "execute_result",
          "data": {
            "text/plain": [
              "(784, 500)"
            ]
          },
          "metadata": {},
          "execution_count": 121
        }
      ]
    },
    {
      "cell_type": "code",
      "source": [
        "bias #printing bias from above command\n",
        "bias.shape"
      ],
      "metadata": {
        "colab": {
          "base_uri": "https://localhost:8080/"
        },
        "id": "KiTrcP2RXQVn",
        "outputId": "3b64f7ef-455a-42da-8fd5-f8d1ee75bc95"
      },
      "execution_count": null,
      "outputs": [
        {
          "output_type": "execute_result",
          "data": {
            "text/plain": [
              "(500,)"
            ]
          },
          "metadata": {},
          "execution_count": 122
        }
      ]
    },
    {
      "cell_type": "code",
      "source": [
        "from keras.regularizers import l1\n",
        "#even these compile arguments are hyper paramters. we are also getting the accuracy metrics\n",
        "# Accuracy = (Number of Correct Predictions) / (Total Number of Predictions)\n",
        "model.compile (loss='sparse_categorical_crossentropy', optimizer='Adam', metrics=['accuracy'])"
      ],
      "metadata": {
        "id": "Vsq8rd-2XQJ9"
      },
      "execution_count": null,
      "outputs": []
    },
    {
      "cell_type": "code",
      "source": [
        "#fitting the data and training the model\n",
        "\n",
        "history = model.fit(X_train, y_train, epochs= 20, validation_data= (X_val, y_val))"
      ],
      "metadata": {
        "colab": {
          "base_uri": "https://localhost:8080/"
        },
        "id": "nNwiYc0mdX27",
        "outputId": "06287361-64af-4c84-b10a-739e62201b5c"
      },
      "execution_count": null,
      "outputs": [
        {
          "output_type": "stream",
          "name": "stdout",
          "text": [
            "Epoch 1/20\n",
            "1719/1719 [==============================] - 17s 10ms/step - loss: 0.4762 - accuracy: 0.8273 - val_loss: 0.3591 - val_accuracy: 0.8688\n",
            "Epoch 2/20\n",
            "1719/1719 [==============================] - 15s 9ms/step - loss: 0.3598 - accuracy: 0.8678 - val_loss: 0.4023 - val_accuracy: 0.8552\n",
            "Epoch 3/20\n",
            "1719/1719 [==============================] - 15s 9ms/step - loss: 0.3263 - accuracy: 0.8784 - val_loss: 0.3228 - val_accuracy: 0.8824\n",
            "Epoch 4/20\n",
            "1719/1719 [==============================] - 15s 9ms/step - loss: 0.3002 - accuracy: 0.8884 - val_loss: 0.3050 - val_accuracy: 0.8888\n",
            "Epoch 5/20\n",
            "1719/1719 [==============================] - 16s 10ms/step - loss: 0.2822 - accuracy: 0.8942 - val_loss: 0.3065 - val_accuracy: 0.8844\n",
            "Epoch 6/20\n",
            "1719/1719 [==============================] - 17s 10ms/step - loss: 0.2668 - accuracy: 0.9003 - val_loss: 0.3427 - val_accuracy: 0.8822\n",
            "Epoch 7/20\n",
            "1719/1719 [==============================] - 15s 9ms/step - loss: 0.2538 - accuracy: 0.9052 - val_loss: 0.3139 - val_accuracy: 0.8878\n",
            "Epoch 8/20\n",
            "1719/1719 [==============================] - 16s 9ms/step - loss: 0.2407 - accuracy: 0.9104 - val_loss: 0.3037 - val_accuracy: 0.8904\n",
            "Epoch 9/20\n",
            "1719/1719 [==============================] - 16s 9ms/step - loss: 0.2319 - accuracy: 0.9112 - val_loss: 0.3005 - val_accuracy: 0.8956\n",
            "Epoch 10/20\n",
            "1719/1719 [==============================] - 15s 9ms/step - loss: 0.2217 - accuracy: 0.9152 - val_loss: 0.2977 - val_accuracy: 0.8972\n",
            "Epoch 11/20\n",
            "1719/1719 [==============================] - 15s 9ms/step - loss: 0.2128 - accuracy: 0.9197 - val_loss: 0.3280 - val_accuracy: 0.8922\n",
            "Epoch 12/20\n",
            "1719/1719 [==============================] - 17s 10ms/step - loss: 0.2025 - accuracy: 0.9233 - val_loss: 0.3230 - val_accuracy: 0.8940\n",
            "Epoch 13/20\n",
            "1719/1719 [==============================] - 16s 9ms/step - loss: 0.1953 - accuracy: 0.9257 - val_loss: 0.3211 - val_accuracy: 0.8942\n",
            "Epoch 14/20\n",
            "1719/1719 [==============================] - 16s 9ms/step - loss: 0.1895 - accuracy: 0.9275 - val_loss: 0.3612 - val_accuracy: 0.8872\n",
            "Epoch 15/20\n",
            "1719/1719 [==============================] - 15s 9ms/step - loss: 0.1829 - accuracy: 0.9293 - val_loss: 0.3447 - val_accuracy: 0.8970\n",
            "Epoch 16/20\n",
            "1719/1719 [==============================] - 16s 9ms/step - loss: 0.1808 - accuracy: 0.9315 - val_loss: 0.3462 - val_accuracy: 0.9000\n",
            "Epoch 17/20\n",
            "1719/1719 [==============================] - 16s 9ms/step - loss: 0.1697 - accuracy: 0.9351 - val_loss: 0.3421 - val_accuracy: 0.8984\n",
            "Epoch 18/20\n",
            "1719/1719 [==============================] - 16s 9ms/step - loss: 0.1667 - accuracy: 0.9357 - val_loss: 0.3537 - val_accuracy: 0.8958\n",
            "Epoch 19/20\n",
            "1719/1719 [==============================] - 16s 9ms/step - loss: 0.1631 - accuracy: 0.9377 - val_loss: 0.3653 - val_accuracy: 0.9002\n",
            "Epoch 20/20\n",
            "1719/1719 [==============================] - 17s 10ms/step - loss: 0.1538 - accuracy: 0.9410 - val_loss: 0.3689 - val_accuracy: 0.8990\n"
          ]
        }
      ]
    },
    {
      "cell_type": "code",
      "source": [
        "# to make graphs easily to visualize losses, we can convery the \"history\" variable to pandas dataframe. Leverage Pandas:\n",
        "\n",
        "#Convert the history object to a Pandas DataFrame for potential performance improvements and easier data manipulation.\n",
        "#Use DataFrame indexing and slicing operations to extract data.\n",
        "\n",
        "import pandas as pd\n",
        "pd.DataFrame(history.history).plot(figsize=(8,5)) #the history.history takes the dictionary-type result data and puts it as data frame for plotting\n",
        "#if model.fit()is stored in variable called \"ash\", then above code becomes pd.Dataframe(ash.history), so that history is an attribute\n",
        "plt.grid(True)\n",
        "#plt.gca().set_ylim(0,1). this sets the y axis between 0 and 1\n",
        "plt.show()\n",
        "\n",
        "#result shows may be we have hit mix limit. more than this will lead to overfitting as val loss has stopped. if val_loss keeps increasing after decreasing then overfitting is happening\n"
      ],
      "metadata": {
        "colab": {
          "base_uri": "https://localhost:8080/",
          "height": 445
        },
        "id": "zjRSL56qdYBj",
        "outputId": "9aed0324-68a5-4ad0-df89-8e9221543db4"
      },
      "execution_count": null,
      "outputs": [
        {
          "output_type": "display_data",
          "data": {
            "text/plain": [
              "<Figure size 800x500 with 1 Axes>"
            ],
            "image/png": "[encoded data removed]"
          },
          "metadata": {}
        }
      ]
    },
    {
      "cell_type": "code",
      "source": [
        "history.history.keys() #prints the dictonary keys"
      ],
      "metadata": {
        "colab": {
          "base_uri": "https://localhost:8080/"
        },
        "id": "7I4dW7mHdYEp",
        "outputId": "7da6c202-8d20-426d-aa30-dec09df3f6cb"
      },
      "execution_count": null,
      "outputs": [
        {
          "output_type": "execute_result",
          "data": {
            "text/plain": [
              "dict_keys(['loss', 'accuracy', 'val_loss', 'val_accuracy'])"
            ]
          },
          "metadata": {},
          "execution_count": 126
        }
      ]
    },
    {
      "cell_type": "code",
      "source": [
        "#testing with new test data\n",
        "\n",
        "model.evaluate(X_test, y_test)\n"
      ],
      "metadata": {
        "colab": {
          "base_uri": "https://localhost:8080/"
        },
        "id": "eD3hSdNJdYHm",
        "outputId": "35a75cca-26f4-4075-fc7f-36793a03842c"
      },
      "execution_count": null,
      "outputs": [
        {
          "output_type": "stream",
          "name": "stdout",
          "text": [
            "313/313 [==============================] - 1s 4ms/step - loss: 0.3797 - accuracy: 0.8915\n"
          ]
        },
        {
          "output_type": "execute_result",
          "data": {
            "text/plain": [
              "[0.3796856105327606, 0.8914999961853027]"
            ]
          },
          "metadata": {},
          "execution_count": 127
        }
      ]
    },
    {
      "cell_type": "code",
      "source": [
        "X_new= X_test [:4] #take only first 4 images of test data\n",
        "\n",
        "plt.figure(figsize= (8,2))\n",
        "for index, image in enumerate(X_new):  #enumerate yields pairs of (index, value) for each item in the iterable you provided.\n",
        "    plt.subplot(1,4,index+1)\n",
        "    plt.imshow(image, cmap='binary')\n",
        "    plt.axis('on') #shows as axis in graph\n",
        "plt.show()\n"
      ],
      "metadata": {
        "colab": {
          "base_uri": "https://localhost:8080/",
          "height": 198
        },
        "id": "1vO96dO7dYKs",
        "outputId": "80389d22-7f79-4bdb-be44-8d91ff377f83"
      },
      "execution_count": null,
      "outputs": [
        {
          "output_type": "display_data",
          "data": {
            "text/plain": [
              "<Figure size 800x200 with 4 Axes>"
            ],
            "image/png": "[encoded data removed]"
          },
          "metadata": {}
        }
      ]
    },
    {
      "cell_type": "code",
      "source": [
        "y_pred=np.argmax(model.predict(X_new), axis=1) #argmax is used to take the index which has the highest softmax probability. that index will correpsond to the label in y\n",
        "y_pred\n",
        "class_names =(\"T-shirt/top\", \"Trouser\", \"Pullover\", \"Shirt\", \"Dress\", \"Sandal\", \"Sneaker\",\"Coat\", \"Bag\", \"Ankle boot\")\n",
        "np.array(class_names)[y_pred]"
      ],
      "metadata": {
        "colab": {
          "base_uri": "https://localhost:8080/"
        },
        "id": "VSu6saKNdYNt",
        "outputId": "86f33a48-da3c-4046-c668-03ba46dea81f"
      },
      "execution_count": null,
      "outputs": [
        {
          "output_type": "stream",
          "name": "stderr",
          "text": [
            "WARNING:tensorflow:5 out of the last 6 calls to <function Model.make_predict_function.<locals>.predict_function at 0x7ed23e590820> triggered tf.function retracing. Tracing is expensive and the excessive number of tracings could be due to (1) creating @tf.function repeatedly in a loop, (2) passing tensors with different shapes, (3) passing Python objects instead of tensors. For (1), please define your @tf.function outside of the loop. For (2), @tf.function has reduce_retracing=True option that can avoid unnecessary retracing. For (3), please refer to https://www.tensorflow.org/guide/function#controlling_retracing and https://www.tensorflow.org/api_docs/python/tf/function for  more details.\n"
          ]
        },
        {
          "output_type": "stream",
          "name": "stdout",
          "text": [
            "1/1 [==============================] - 0s 76ms/step\n"
          ]
        },
        {
          "output_type": "execute_result",
          "data": {
            "text/plain": [
              "array(['Ankle boot', 'Pullover', 'Trouser', 'Trouser'], dtype='<U11')"
            ]
          },
          "metadata": {},
          "execution_count": 129
        }
      ]
    },
    {
      "cell_type": "code",
      "source": [],
      "metadata": {
        "id": "92ck1VN-dYQg"
      },
      "execution_count": null,
      "outputs": []
    },
    {
      "cell_type": "code",
      "source": [],
      "metadata": {
        "id": "cBBRMAZSdYUE"
      },
      "execution_count": null,
      "outputs": []
    }
  ]
}